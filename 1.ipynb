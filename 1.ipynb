{
  "nbformat": 4,
  "nbformat_minor": 0,
  "metadata": {
    "colab": {
      "name": "1.ipynb",
      "provenance": [],
      "authorship_tag": "ABX9TyNF6Ef/QgOAh0eT0Qg5kRQu",
      "include_colab_link": true
    },
    "kernelspec": {
      "name": "python3",
      "display_name": "Python 3"
    },
    "language_info": {
      "name": "python"
    }
  },
  "cells": [
    {
      "cell_type": "markdown",
      "metadata": {
        "id": "view-in-github",
        "colab_type": "text"
      },
      "source": [
        "<a href=\"https://colab.research.google.com/github/khalidakram07/Python_Interview_questions/blob/main/1.ipynb\" target=\"_parent\"><img src=\"https://colab.research.google.com/assets/colab-badge.svg\" alt=\"Open In Colab\"/></a>"
      ]
    },
    {
      "cell_type": "code",
      "metadata": {
        "colab": {
          "base_uri": "https://localhost:8080/"
        },
        "id": "pF7sQKv0oDzS",
        "outputId": "0e7925e3-2c67-457e-d07a-8fb3958c8ca4"
      },
      "source": [
        "#Write a python program to find the largest product of pair pf adjacent elements from a given list of integers\n",
        "#Sample input : [1,2,3,4,5,6], [1,2,3,4,5], [2,3]\n",
        "#Sample output : 30,20,6\n",
        "\n",
        "\n",
        "def adjacentElementsProduct(array):\n",
        "    \n",
        "    length = len(array) \n",
        "     \n",
        "    sum = []\n",
        "     \n",
        "    for i in range(length-1):\n",
        "        \n",
        "        sum.append(array[i] * array[i+1]) #append all the values of the product into the array\n",
        "        \n",
        "    return max(sum)\n",
        "\n",
        "print(adjacentElementsProduct([1,2,3,4,5,6]))\n",
        "print(adjacentElementsProduct([1,2,3,4,5]))\n",
        "print(adjacentElementsProduct([2,3]))"
      ],
      "execution_count": 6,
      "outputs": [
        {
          "output_type": "stream",
          "text": [
            "30\n",
            "20\n",
            "6\n"
          ],
          "name": "stdout"
        }
      ]
    }
  ]
}